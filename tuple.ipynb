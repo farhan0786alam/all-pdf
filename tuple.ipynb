{
 "cells": [
  {
   "cell_type": "markdown",
   "id": "4bc40403",
   "metadata": {},
   "source": [
    "## Tuple"
   ]
  },
  {
   "cell_type": "code",
   "execution_count": 1,
   "id": "45fab205",
   "metadata": {},
   "outputs": [
    {
     "name": "stdout",
     "output_type": "stream",
     "text": [
      "4\n",
      "2\n",
      "2\n"
     ]
    }
   ],
   "source": [
    "x = (1,2.4,\"hello\",True)\n",
    "print(len(x))\n",
    "# print(min(x))\n",
    "# print(max(x))\n",
    "# print(sum(x))\n",
    "print(x.count(1))\n",
    "print(x.index('hello'))"
   ]
  },
  {
   "cell_type": "code",
   "execution_count": 4,
   "id": "ea4307a1",
   "metadata": {},
   "outputs": [
    {
     "name": "stdout",
     "output_type": "stream",
     "text": [
      "8\n",
      "True\n",
      "5\n",
      "13\n",
      "6\n"
     ]
    }
   ],
   "source": [
    "x = (True,1,2,5,1,1,1,1)\n",
    "print(len(x))\n",
    "print(min(x))\n",
    "print(max(x))\n",
    "print(sum(x))\n",
    "print(x.count(1))\n"
   ]
  },
  {
   "cell_type": "code",
   "execution_count": 6,
   "id": "609f5f90",
   "metadata": {},
   "outputs": [
    {
     "name": "stdout",
     "output_type": "stream",
     "text": [
      "(1, 28, 3, 4)\n"
     ]
    }
   ],
   "source": [
    "x = (1,2,3,4)\n",
    "y = list(x)\n",
    "y[1] =28\n",
    "x = tuple(y)\n",
    "print(x)"
   ]
  },
  {
   "cell_type": "code",
   "execution_count": 8,
   "id": "cd4ade2c",
   "metadata": {},
   "outputs": [
    {
     "name": "stdout",
     "output_type": "stream",
     "text": [
      "<class 'tuple'>\n",
      "<class 'tuple'>\n",
      "('hello',)\n",
      "<class 'str'>\n"
     ]
    }
   ],
   "source": [
    "x = (\"hello\",\"hi\")\n",
    "y = (\"hello\",)\n",
    "z = (\"hello\")\n",
    "\n",
    "print(type(x))\n",
    "print(type(y))\n",
    "print(y)\n",
    "print(type(z))"
   ]
  },
  {
   "cell_type": "code",
   "execution_count": 15,
   "id": "1c0006a0",
   "metadata": {},
   "outputs": [
    {
     "name": "stdout",
     "output_type": "stream",
     "text": [
      "(1, 2, 3)\n",
      "(4, 5, 6)\n",
      "(1, 2, 3, 4, 5, 6)\n"
     ]
    }
   ],
   "source": [
    "x = (1,2,3)\n",
    "y = (4,5,6)\n",
    "\n",
    "z = x+y\n",
    "print(x)\n",
    "print(y)\n",
    "print(z)"
   ]
  },
  {
   "cell_type": "code",
   "execution_count": 16,
   "id": "9242ab56",
   "metadata": {},
   "outputs": [
    {
     "name": "stdout",
     "output_type": "stream",
     "text": [
      "6\n",
      "5\n"
     ]
    }
   ],
   "source": [
    "x = 5\n",
    "y = 6\n",
    "\n",
    "x,y = y,x\n",
    "\n",
    "print(x)\n",
    "print(y)"
   ]
  },
  {
   "cell_type": "code",
   "execution_count": 23,
   "id": "b2dec87b",
   "metadata": {},
   "outputs": [
    {
     "name": "stdout",
     "output_type": "stream",
     "text": [
      "11 22 33\n"
     ]
    }
   ],
   "source": [
    "x,y,z = (11,22,33)\n",
    "print(x,y,z)\n",
    "# print(y)\n",
    "# print(z)"
   ]
  },
  {
   "cell_type": "code",
   "execution_count": 28,
   "id": "88c61b5c",
   "metadata": {},
   "outputs": [
    {
     "name": "stdout",
     "output_type": "stream",
     "text": [
      "(44, 55, 66)\n"
     ]
    }
   ],
   "source": [
    "x = (11,22,33)\n",
    "y = (44,55,66)\n",
    "x =  x + y\n",
    "print(y)"
   ]
  },
  {
   "cell_type": "code",
   "execution_count": 30,
   "id": "d373bedd",
   "metadata": {},
   "outputs": [
    {
     "name": "stdout",
     "output_type": "stream",
     "text": [
      "[3, 4]\n",
      "[1, 2]\n"
     ]
    }
   ],
   "source": [
    "x = [1,2]\n",
    "y = [3,4]\n",
    "\n",
    "x,y = y,x\n",
    "\n",
    "print(x)\n",
    "print(y)"
   ]
  },
  {
   "cell_type": "code",
   "execution_count": null,
   "id": "1bed4a38",
   "metadata": {},
   "outputs": [],
   "source": []
  }
 ],
 "metadata": {
  "kernelspec": {
   "display_name": "Python 3 (ipykernel)",
   "language": "python",
   "name": "python3"
  },
  "language_info": {
   "codemirror_mode": {
    "name": "ipython",
    "version": 3
   },
   "file_extension": ".py",
   "mimetype": "text/x-python",
   "name": "python",
   "nbconvert_exporter": "python",
   "pygments_lexer": "ipython3",
   "version": "3.10.9"
  }
 },
 "nbformat": 4,
 "nbformat_minor": 5
}
