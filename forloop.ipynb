{
 "cells": [
  {
   "cell_type": "code",
   "execution_count": 2,
   "id": "360d8079",
   "metadata": {},
   "outputs": [
    {
     "name": "stdout",
     "output_type": "stream",
     "text": [
      "1 3 5 7 9 "
     ]
    }
   ],
   "source": [
    "for i in range(1,10,2):            #range(start,stop,step)\n",
    "    print(i,end=\" \")"
   ]
  },
  {
   "cell_type": "code",
   "execution_count": 3,
   "id": "0de8f7a7",
   "metadata": {},
   "outputs": [
    {
     "name": "stdout",
     "output_type": "stream",
     "text": [
      "1 2 3 4 5 6 7 8 9 "
     ]
    }
   ],
   "source": [
    "for i in range(1,10):            #range(start,stop,step = 1)\n",
    "    print(i,end=\" \")"
   ]
  },
  {
   "cell_type": "code",
   "execution_count": 4,
   "id": "4f712dbb",
   "metadata": {},
   "outputs": [
    {
     "name": "stdout",
     "output_type": "stream",
     "text": [
      "0 1 2 3 4 5 6 7 8 9 "
     ]
    }
   ],
   "source": [
    "for i in range(10):            #range(start=0,stop,step = 1)\n",
    "    print(i,end=\" \")"
   ]
  },
  {
   "cell_type": "code",
   "execution_count": 6,
   "id": "82c8d356",
   "metadata": {},
   "outputs": [
    {
     "name": "stdout",
     "output_type": "stream",
     "text": [
      "2 4 6 8 10 12 14 16 18 20 22 24 26 28 30 32 34 36 38 40 42 44 46 48 50 52 54 56 58 60 62 64 66 68 70 72 74 76 78 80 82 84 86 88 90 92 94 96 98 100 "
     ]
    }
   ],
   "source": [
    "for i in range(2,101,2):            #range(start=0,stop,step = 1)\n",
    "    print(i,end=\" \")"
   ]
  },
  {
   "cell_type": "code",
   "execution_count": 8,
   "id": "3520f339",
   "metadata": {},
   "outputs": [
    {
     "name": "stdout",
     "output_type": "stream",
     "text": [
      "10 9 8 7 6 5 4 3 2 1 "
     ]
    }
   ],
   "source": [
    "for i in range(10,0,-1):\n",
    "    print(i,end=\" \")"
   ]
  },
  {
   "cell_type": "code",
   "execution_count": 9,
   "id": "731fefc2",
   "metadata": {},
   "outputs": [
    {
     "name": "stdout",
     "output_type": "stream",
     "text": [
      "-10 -9 -8 -7 -6 -5 -4 -3 -2 -1 "
     ]
    }
   ],
   "source": [
    "for i in range(-10,0):\n",
    "    print(i,end=\" \")"
   ]
  },
  {
   "cell_type": "code",
   "execution_count": 15,
   "id": "36ba17e6",
   "metadata": {},
   "outputs": [
    {
     "name": "stdout",
     "output_type": "stream",
     "text": [
      "0 ---- h\n",
      "1 ---- e\n",
      "2 ---- l\n",
      "3 ---- l\n",
      "4 ---- o\n"
     ]
    }
   ],
   "source": [
    "x = \"hello\"\n",
    "\n",
    "# print(x[0],x[1],x[2],x[3],x[4])\n",
    "\n",
    "# for i in x:\n",
    "#     print(i)\n",
    "    \n",
    "for i in range(len(x)):\n",
    "    print(i,\"----\",x[i])"
   ]
  },
  {
   "cell_type": "markdown",
   "id": "8880be84",
   "metadata": {},
   "source": [
    "### wap to calculate the factors of a input number"
   ]
  },
  {
   "cell_type": "code",
   "execution_count": 24,
   "id": "e571434c",
   "metadata": {},
   "outputs": [
    {
     "name": "stdout",
     "output_type": "stream",
     "text": [
      "enter a number = 5\n",
      "the factor of  5 is = 1\n",
      "the factor of  5 is = 5\n",
      "Total Factors = 2\n"
     ]
    }
   ],
   "source": [
    "x = int(input(\"enter a number = \"))\n",
    "\n",
    "c = 0\n",
    "for i in range(1,x+1):\n",
    "    if(x % i == 0):\n",
    "        c = c + 1\n",
    "        print(\"the factor of \",x,\"is =\",i)\n",
    "        \n",
    "print(\"Total Factors =\",c)"
   ]
  },
  {
   "cell_type": "markdown",
   "id": "38a62950",
   "metadata": {},
   "source": [
    "### wap to swap two numbers"
   ]
  },
  {
   "cell_type": "code",
   "execution_count": 26,
   "id": "920b6b38",
   "metadata": {},
   "outputs": [
    {
     "name": "stdout",
     "output_type": "stream",
     "text": [
      "before swapping 5\n",
      "before swapping 6\n",
      "after swapping 6\n",
      "after swapping 5\n"
     ]
    }
   ],
   "source": [
    "x = 5\n",
    "y = 6\n",
    "\n",
    "print(\"before swapping\",x)\n",
    "print(\"before swapping\",y)\n",
    "\n",
    "temp = x\n",
    "x = y\n",
    "y = temp\n",
    "print(\"after swapping\",x)\n",
    "print(\"after swapping\",y)"
   ]
  },
  {
   "cell_type": "code",
   "execution_count": 27,
   "id": "1864c3d6",
   "metadata": {},
   "outputs": [
    {
     "name": "stdout",
     "output_type": "stream",
     "text": [
      "before swapping 5\n",
      "before swapping 6\n",
      "after swapping 6\n",
      "after swapping 5\n"
     ]
    }
   ],
   "source": [
    "x = 5\n",
    "y = 6\n",
    "\n",
    "print(\"before swapping\",x)\n",
    "print(\"before swapping\",y)\n",
    "\n",
    "x = x + y\n",
    "y =  x - y\n",
    "x = x - y\n",
    "print(\"after swapping\",x)\n",
    "print(\"after swapping\",y)"
   ]
  },
  {
   "cell_type": "code",
   "execution_count": 28,
   "id": "bf3ac42d",
   "metadata": {},
   "outputs": [
    {
     "name": "stdout",
     "output_type": "stream",
     "text": [
      "before swapping 5\n",
      "before swapping 6\n",
      "after swapping 6\n",
      "after swapping 5\n"
     ]
    }
   ],
   "source": [
    "x = 5\n",
    "y = 6\n",
    "\n",
    "print(\"before swapping\",x)\n",
    "print(\"before swapping\",y)\n",
    "\n",
    "x,y = y,x\n",
    "\n",
    "print(\"after swapping\",x)\n",
    "print(\"after swapping\",y)"
   ]
  },
  {
   "cell_type": "markdown",
   "id": "3c8a1199",
   "metadata": {},
   "source": [
    "### wap to print the factorial of input number"
   ]
  },
  {
   "cell_type": "code",
   "execution_count": 32,
   "id": "b2348b68",
   "metadata": {},
   "outputs": [
    {
     "name": "stdout",
     "output_type": "stream",
     "text": [
      "enter a number = 5\n",
      "the factorial of  5 is = 120\n"
     ]
    }
   ],
   "source": [
    "x = int(input(\"enter a number = \"))\n",
    "\n",
    "fact =  1\n",
    "for i in range(1,x+1):\n",
    "    fact = fact * i\n",
    "    \n",
    "print(\"the factorial of \",x,\"is =\",fact)"
   ]
  },
  {
   "cell_type": "code",
   "execution_count": null,
   "id": "75da902f",
   "metadata": {},
   "outputs": [],
   "source": []
  }
 ],
 "metadata": {
  "kernelspec": {
   "display_name": "Python 3 (ipykernel)",
   "language": "python",
   "name": "python3"
  },
  "language_info": {
   "codemirror_mode": {
    "name": "ipython",
    "version": 3
   },
   "file_extension": ".py",
   "mimetype": "text/x-python",
   "name": "python",
   "nbconvert_exporter": "python",
   "pygments_lexer": "ipython3",
   "version": "3.10.9"
  }
 },
 "nbformat": 4,
 "nbformat_minor": 5
}
